# GameOfLife
Conway's Game of Life in C/OpenGL  

## Math 
### Index by gridpos
max = max amount of elements in a row  
x,y = coordinates  
![formula](https://i.imgur.com/taYxhNs.png)  
### Gridpos by index:  
max = max amount of elements in a row  
x:  
![formula](https://i.imgur.com/zwgXheX.png)  
y:  
![formula](https://i.imgur.com/utnmYVV.gif)  
\begin{aligned}
\dot{x} & = \sigma(y-x) \\
\dot{y} & = \rho x - y - xz \\
\dot{z} & = -\beta z + xy
\end{aligned}
